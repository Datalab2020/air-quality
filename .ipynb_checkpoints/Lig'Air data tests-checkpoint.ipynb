{
 "cells": [
  {
   "cell_type": "markdown",
   "metadata": {},
   "source": [
    "# Concentrations moyennes annuelles de polluants en Centre-Val-de-Loire"
   ]
  },
  {
   "cell_type": "code",
   "execution_count": 4,
   "metadata": {
    "scrolled": true
   },
   "outputs": [
    {
     "data": {
      "text/html": [
       "<div>\n",
       "<style scoped>\n",
       "    .dataframe tbody tr th:only-of-type {\n",
       "        vertical-align: middle;\n",
       "    }\n",
       "\n",
       "    .dataframe tbody tr th {\n",
       "        vertical-align: top;\n",
       "    }\n",
       "\n",
       "    .dataframe thead th {\n",
       "        text-align: right;\n",
       "    }\n",
       "</style>\n",
       "<table border=\"1\" class=\"dataframe\">\n",
       "  <thead>\n",
       "    <tr style=\"text-align: right;\">\n",
       "      <th></th>\n",
       "      <th>X</th>\n",
       "      <th>Y</th>\n",
       "      <th>nom_dept</th>\n",
       "      <th>nom_com</th>\n",
       "      <th>insee_com</th>\n",
       "      <th>nom_station</th>\n",
       "      <th>code_station</th>\n",
       "      <th>typologie</th>\n",
       "      <th>influence</th>\n",
       "      <th>nom_polluant</th>\n",
       "      <th>...</th>\n",
       "      <th>metrique</th>\n",
       "      <th>date_debut</th>\n",
       "      <th>date_fin</th>\n",
       "      <th>statut_valid</th>\n",
       "      <th>x_wgs84</th>\n",
       "      <th>y_wgs84</th>\n",
       "      <th>x_l93</th>\n",
       "      <th>y_l93</th>\n",
       "      <th>id</th>\n",
       "      <th>ESRI_OID</th>\n",
       "    </tr>\n",
       "  </thead>\n",
       "  <tbody>\n",
       "    <tr>\n",
       "      <th>0</th>\n",
       "      <td>1.69313</td>\n",
       "      <td>46.798267</td>\n",
       "      <td>INDRE</td>\n",
       "      <td>Châteauroux</td>\n",
       "      <td>36044</td>\n",
       "      <td>Chateauroux Sud</td>\n",
       "      <td>FR34051</td>\n",
       "      <td>Urbaine</td>\n",
       "      <td>Fond</td>\n",
       "      <td>NaN</td>\n",
       "      <td>...</td>\n",
       "      <td>annuelle</td>\n",
       "      <td>2018/01/01 00:00:00+00</td>\n",
       "      <td>2018/12/31 00:00:00+00</td>\n",
       "      <td>1</td>\n",
       "      <td>1.69313</td>\n",
       "      <td>46.798267</td>\n",
       "      <td>600 329,2082205</td>\n",
       "      <td>6 633 950,0203331</td>\n",
       "      <td>1</td>\n",
       "      <td>1</td>\n",
       "    </tr>\n",
       "    <tr>\n",
       "      <th>1</th>\n",
       "      <td>1.69313</td>\n",
       "      <td>46.798267</td>\n",
       "      <td>INDRE</td>\n",
       "      <td>Châteauroux</td>\n",
       "      <td>36044</td>\n",
       "      <td>Chateauroux Sud</td>\n",
       "      <td>FR34051</td>\n",
       "      <td>Urbaine</td>\n",
       "      <td>Fond</td>\n",
       "      <td>NaN</td>\n",
       "      <td>...</td>\n",
       "      <td>annuelle</td>\n",
       "      <td>2019/01/01 00:00:00+00</td>\n",
       "      <td>2019/12/31 00:00:00+00</td>\n",
       "      <td>1</td>\n",
       "      <td>1.69313</td>\n",
       "      <td>46.798267</td>\n",
       "      <td>600 329,2082205</td>\n",
       "      <td>6 633 950,0203331</td>\n",
       "      <td>2</td>\n",
       "      <td>2</td>\n",
       "    </tr>\n",
       "    <tr>\n",
       "      <th>2</th>\n",
       "      <td>1.69313</td>\n",
       "      <td>46.798267</td>\n",
       "      <td>INDRE</td>\n",
       "      <td>Châteauroux</td>\n",
       "      <td>36044</td>\n",
       "      <td>Chateauroux Sud</td>\n",
       "      <td>FR34051</td>\n",
       "      <td>Urbaine</td>\n",
       "      <td>Fond</td>\n",
       "      <td>NaN</td>\n",
       "      <td>...</td>\n",
       "      <td>annuelle</td>\n",
       "      <td>2015/01/01 00:00:00+00</td>\n",
       "      <td>2015/12/31 00:00:00+00</td>\n",
       "      <td>1</td>\n",
       "      <td>1.69313</td>\n",
       "      <td>46.798267</td>\n",
       "      <td>600 329,2082205</td>\n",
       "      <td>6 633 950,0203331</td>\n",
       "      <td>3</td>\n",
       "      <td>3</td>\n",
       "    </tr>\n",
       "    <tr>\n",
       "      <th>3</th>\n",
       "      <td>1.69313</td>\n",
       "      <td>46.798267</td>\n",
       "      <td>INDRE</td>\n",
       "      <td>Châteauroux</td>\n",
       "      <td>36044</td>\n",
       "      <td>Chateauroux Sud</td>\n",
       "      <td>FR34051</td>\n",
       "      <td>Urbaine</td>\n",
       "      <td>Fond</td>\n",
       "      <td>NaN</td>\n",
       "      <td>...</td>\n",
       "      <td>annuelle</td>\n",
       "      <td>2017/01/01 00:00:00+00</td>\n",
       "      <td>2017/12/31 00:00:00+00</td>\n",
       "      <td>1</td>\n",
       "      <td>1.69313</td>\n",
       "      <td>46.798267</td>\n",
       "      <td>600 329,2082205</td>\n",
       "      <td>6 633 950,0203331</td>\n",
       "      <td>4</td>\n",
       "      <td>4</td>\n",
       "    </tr>\n",
       "    <tr>\n",
       "      <th>4</th>\n",
       "      <td>1.69313</td>\n",
       "      <td>46.798267</td>\n",
       "      <td>INDRE</td>\n",
       "      <td>Châteauroux</td>\n",
       "      <td>36044</td>\n",
       "      <td>Chateauroux Sud</td>\n",
       "      <td>FR34051</td>\n",
       "      <td>Urbaine</td>\n",
       "      <td>Fond</td>\n",
       "      <td>NaN</td>\n",
       "      <td>...</td>\n",
       "      <td>annuelle</td>\n",
       "      <td>2016/01/01 00:00:00+00</td>\n",
       "      <td>2016/12/31 00:00:00+00</td>\n",
       "      <td>1</td>\n",
       "      <td>1.69313</td>\n",
       "      <td>46.798267</td>\n",
       "      <td>600 329,2082205</td>\n",
       "      <td>6 633 950,0203331</td>\n",
       "      <td>5</td>\n",
       "      <td>5</td>\n",
       "    </tr>\n",
       "  </tbody>\n",
       "</table>\n",
       "<p>5 rows × 23 columns</p>\n",
       "</div>"
      ],
      "text/plain": [
       "         X          Y nom_dept      nom_com  insee_com      nom_station  \\\n",
       "0  1.69313  46.798267    INDRE  Châteauroux      36044  Chateauroux Sud   \n",
       "1  1.69313  46.798267    INDRE  Châteauroux      36044  Chateauroux Sud   \n",
       "2  1.69313  46.798267    INDRE  Châteauroux      36044  Chateauroux Sud   \n",
       "3  1.69313  46.798267    INDRE  Châteauroux      36044  Chateauroux Sud   \n",
       "4  1.69313  46.798267    INDRE  Châteauroux      36044  Chateauroux Sud   \n",
       "\n",
       "  code_station typologie influence  nom_polluant  ...  metrique  \\\n",
       "0      FR34051   Urbaine      Fond           NaN  ...  annuelle   \n",
       "1      FR34051   Urbaine      Fond           NaN  ...  annuelle   \n",
       "2      FR34051   Urbaine      Fond           NaN  ...  annuelle   \n",
       "3      FR34051   Urbaine      Fond           NaN  ...  annuelle   \n",
       "4      FR34051   Urbaine      Fond           NaN  ...  annuelle   \n",
       "\n",
       "               date_debut                date_fin statut_valid  x_wgs84  \\\n",
       "0  2018/01/01 00:00:00+00  2018/12/31 00:00:00+00            1  1.69313   \n",
       "1  2019/01/01 00:00:00+00  2019/12/31 00:00:00+00            1  1.69313   \n",
       "2  2015/01/01 00:00:00+00  2015/12/31 00:00:00+00            1  1.69313   \n",
       "3  2017/01/01 00:00:00+00  2017/12/31 00:00:00+00            1  1.69313   \n",
       "4  2016/01/01 00:00:00+00  2016/12/31 00:00:00+00            1  1.69313   \n",
       "\n",
       "     y_wgs84            x_l93              y_l93  id ESRI_OID  \n",
       "0  46.798267  600 329,2082205  6 633 950,0203331   1        1  \n",
       "1  46.798267  600 329,2082205  6 633 950,0203331   2        2  \n",
       "2  46.798267  600 329,2082205  6 633 950,0203331   3        3  \n",
       "3  46.798267  600 329,2082205  6 633 950,0203331   4        4  \n",
       "4  46.798267  600 329,2082205  6 633 950,0203331   5        5  \n",
       "\n",
       "[5 rows x 23 columns]"
      ]
     },
     "execution_count": 4,
     "metadata": {},
     "output_type": "execute_result"
    }
   ],
   "source": [
    "import pandas as pd\n",
    "\n",
    "url = \"https://opendata.arcgis.com/datasets/2a11042517554832ac1d50560f6159a3_0.csv\"\n",
    "df = pd.read_csv(url)\n",
    "\n",
    "df.head()"
   ]
  },
  {
   "cell_type": "markdown",
   "metadata": {},
   "source": [
    "## Composition du dataframe"
   ]
  },
  {
   "cell_type": "code",
   "execution_count": 44,
   "metadata": {},
   "outputs": [
    {
     "data": {
      "text/plain": [
       "RangeIndex(start=0, stop=8096, step=1)"
      ]
     },
     "execution_count": 44,
     "metadata": {},
     "output_type": "execute_result"
    }
   ],
   "source": [
    "df.index"
   ]
  },
  {
   "cell_type": "code",
   "execution_count": 12,
   "metadata": {},
   "outputs": [],
   "source": [
    "#df.columns"
   ]
  },
  {
   "cell_type": "code",
   "execution_count": 6,
   "metadata": {},
   "outputs": [
    {
     "data": {
      "text/plain": [
       "7912"
      ]
     },
     "execution_count": 6,
     "metadata": {},
     "output_type": "execute_result"
    }
   ],
   "source": [
    "df.size"
   ]
  },
  {
   "cell_type": "code",
   "execution_count": 11,
   "metadata": {},
   "outputs": [
    {
     "name": "stdout",
     "output_type": "stream",
     "text": [
      "<class 'pandas.core.frame.DataFrame'>\n",
      "RangeIndex: 344 entries, 0 to 343\n",
      "Data columns (total 23 columns):\n",
      " #   Column        Non-Null Count  Dtype  \n",
      "---  ------        --------------  -----  \n",
      " 0   X             344 non-null    float64\n",
      " 1   Y             344 non-null    float64\n",
      " 2   nom_dept      344 non-null    object \n",
      " 3   nom_com       344 non-null    object \n",
      " 4   insee_com     344 non-null    int64  \n",
      " 5   nom_station   344 non-null    object \n",
      " 6   code_station  344 non-null    object \n",
      " 7   typologie     344 non-null    object \n",
      " 8   influence     344 non-null    object \n",
      " 9   nom_polluant  0 non-null      float64\n",
      " 10  id_poll_ue    344 non-null    int64  \n",
      " 11  valeur        344 non-null    float64\n",
      " 12  unite         344 non-null    object \n",
      " 13  metrique      344 non-null    object \n",
      " 14  date_debut    344 non-null    object \n",
      " 15  date_fin      344 non-null    object \n",
      " 16  statut_valid  344 non-null    int64  \n",
      " 17  x_wgs84       344 non-null    float64\n",
      " 18  y_wgs84       344 non-null    float64\n",
      " 19  x_l93         321 non-null    object \n",
      " 20  y_l93         321 non-null    object \n",
      " 21  id            344 non-null    int64  \n",
      " 22  ESRI_OID      344 non-null    int64  \n",
      "dtypes: float64(6), int64(5), object(12)\n",
      "memory usage: 61.9+ KB\n"
     ]
    }
   ],
   "source": [
    "df.info()"
   ]
  },
  {
   "cell_type": "code",
   "execution_count": 15,
   "metadata": {},
   "outputs": [
    {
     "data": {
      "text/plain": [
       "X                 0\n",
       "Y                 0\n",
       "nom_dept          0\n",
       "nom_com           0\n",
       "insee_com         0\n",
       "nom_station       0\n",
       "code_station      0\n",
       "typologie         0\n",
       "influence         0\n",
       "nom_polluant    344\n",
       "id_poll_ue        0\n",
       "valeur            0\n",
       "unite             0\n",
       "metrique          0\n",
       "date_debut        0\n",
       "date_fin          0\n",
       "statut_valid      0\n",
       "x_wgs84           0\n",
       "y_wgs84           0\n",
       "x_l93            23\n",
       "y_l93            23\n",
       "id                0\n",
       "ESRI_OID          0\n",
       "dtype: int64"
      ]
     },
     "execution_count": 15,
     "metadata": {},
     "output_type": "execute_result"
    }
   ],
   "source": [
    "df.isna().sum()"
   ]
  },
  {
   "cell_type": "code",
   "execution_count": 11,
   "metadata": {},
   "outputs": [],
   "source": [
    "#df.loc[0]"
   ]
  },
  {
   "cell_type": "code",
   "execution_count": 10,
   "metadata": {},
   "outputs": [
    {
     "data": {
      "text/plain": [
       "(344, 23)"
      ]
     },
     "execution_count": 10,
     "metadata": {},
     "output_type": "execute_result"
    }
   ],
   "source": [
    "df.shape"
   ]
  },
  {
   "cell_type": "markdown",
   "metadata": {},
   "source": [
    "## Quelques définitions"
   ]
  },
  {
   "cell_type": "markdown",
   "metadata": {},
   "source": [
    "# Nettoyage des données"
   ]
  },
  {
   "cell_type": "code",
   "execution_count": null,
   "metadata": {},
   "outputs": [],
   "source": []
  },
  {
   "cell_type": "markdown",
   "metadata": {},
   "source": [
    "## Quelques graphiques"
   ]
  },
  {
   "cell_type": "code",
   "execution_count": 14,
   "metadata": {},
   "outputs": [],
   "source": [
    "import pandas as pd\n",
    "url = \"https://opendata.arcgis.com/datasets/6f64bbd4f94c425791c2ec7eee33bb71_0.csv\"\n",
    "df = pd.read_csv(url)"
   ]
  },
  {
   "cell_type": "code",
   "execution_count": 66,
   "metadata": {},
   "outputs": [
    {
     "data": {
      "text/html": [
       "<div>\n",
       "<style scoped>\n",
       "    .dataframe tbody tr th:only-of-type {\n",
       "        vertical-align: middle;\n",
       "    }\n",
       "\n",
       "    .dataframe tbody tr th {\n",
       "        vertical-align: top;\n",
       "    }\n",
       "\n",
       "    .dataframe thead th {\n",
       "        text-align: right;\n",
       "    }\n",
       "</style>\n",
       "<table border=\"1\" class=\"dataframe\">\n",
       "  <thead>\n",
       "    <tr style=\"text-align: right;\">\n",
       "      <th></th>\n",
       "      <th>val_pm10</th>\n",
       "    </tr>\n",
       "    <tr>\n",
       "      <th>lib_zone</th>\n",
       "      <th></th>\n",
       "    </tr>\n",
       "  </thead>\n",
       "  <tbody>\n",
       "    <tr>\n",
       "      <th>BLOIS</th>\n",
       "      <td>2.534585</td>\n",
       "    </tr>\n",
       "    <tr>\n",
       "      <th>BOURGES</th>\n",
       "      <td>2.507905</td>\n",
       "    </tr>\n",
       "    <tr>\n",
       "      <th>CHARTRES</th>\n",
       "      <td>2.666008</td>\n",
       "    </tr>\n",
       "    <tr>\n",
       "      <th>CHATEAUROUX</th>\n",
       "      <td>2.582016</td>\n",
       "    </tr>\n",
       "    <tr>\n",
       "      <th>DREUX</th>\n",
       "      <td>2.543478</td>\n",
       "    </tr>\n",
       "    <tr>\n",
       "      <th>MONTARGIS</th>\n",
       "      <td>2.199605</td>\n",
       "    </tr>\n",
       "    <tr>\n",
       "      <th>ORLEANS</th>\n",
       "      <td>2.265810</td>\n",
       "    </tr>\n",
       "    <tr>\n",
       "      <th>TOURS</th>\n",
       "      <td>2.790514</td>\n",
       "    </tr>\n",
       "  </tbody>\n",
       "</table>\n",
       "</div>"
      ],
      "text/plain": [
       "             val_pm10\n",
       "lib_zone             \n",
       "BLOIS        2.534585\n",
       "BOURGES      2.507905\n",
       "CHARTRES     2.666008\n",
       "CHATEAUROUX  2.582016\n",
       "DREUX        2.543478\n",
       "MONTARGIS    2.199605\n",
       "ORLEANS      2.265810\n",
       "TOURS        2.790514"
      ]
     },
     "execution_count": 66,
     "metadata": {},
     "output_type": "execute_result"
    }
   ],
   "source": [
    "data=df.groupby(['lib_zone']).mean()[['val_pm10']]\n",
    "#print(data)\n",
    "data.reset_index()\n",
    "#data.insert(0,\"Ville\", data.index)\n",
    "#print(data.to_string(index = False))\n",
    "data"
   ]
  },
  {
   "cell_type": "code",
   "execution_count": 64,
   "metadata": {},
   "outputs": [
    {
     "data": {
      "image/png": "[encoded data removed]",
      "text/plain": [
       "<Figure size 720x504 with 1 Axes>"
      ]
     },
     "metadata": {
      "needs_background": "light"
     },
     "output_type": "display_data"
    }
   ],
   "source": [
    "data.plot(kind = 'bar', figsize=(10,7), title = 'Moyenne de pm_10 par ville', ylim=(2,2.8));"
   ]
  },
  {
   "cell_type": "code",
   "execution_count": null,
   "metadata": {},
   "outputs": [],
   "source": []
  }
 ],
 "metadata": {
  "kernelspec": {
   "display_name": "Python 3",
   "language": "python",
   "name": "python3"
  },
  "language_info": {
   "codemirror_mode": {
    "name": "ipython",
    "version": 3
   },
   "file_extension": ".py",
   "mimetype": "text/x-python",
   "name": "python",
   "nbconvert_exporter": "python",
   "pygments_lexer": "ipython3",
   "version": "3.8.3"
  }
 },
 "nbformat": 4,
 "nbformat_minor": 4
}
