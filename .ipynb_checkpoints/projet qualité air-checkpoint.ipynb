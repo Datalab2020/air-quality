{
 "cells": [
  {
   "cell_type": "code",
   "execution_count": 1,
   "metadata": {},
   "outputs": [],
   "source": [
    "import pandas as pd\n",
    "import numpy as np\n",
    "import matplotlib.pyplot as plt\n",
    "import seaborn as sns\n",
    "import folium"
   ]
  },
  {
   "cell_type": "code",
   "execution_count": 2,
   "metadata": {},
   "outputs": [],
   "source": [
    "url = \"https://opendata.arcgis.com/datasets/6f64bbd4f94c425791c2ec7eee33bb71_0.csv\"\n",
    "df = pd.read_csv(url)"
   ]
  },
  {
   "cell_type": "code",
   "execution_count": 3,
   "metadata": {},
   "outputs": [],
   "source": [
    "#data=df.groupby(['lib_zone']).mean()[['val_pm10']]"
   ]
  },
  {
   "cell_type": "code",
   "execution_count": 4,
   "metadata": {},
   "outputs": [],
   "source": [
    "#data['villes']=data.index"
   ]
  },
  {
   "cell_type": "code",
   "execution_count": 5,
   "metadata": {
    "scrolled": true
   },
   "outputs": [],
   "source": [
    "#print(data.plot.bar(x='villes',y='val_pm10',rot=0))"
   ]
  },
  {
   "cell_type": "code",
   "execution_count": 6,
   "metadata": {},
   "outputs": [],
   "source": [
    "newdf= df.drop(df.columns[[5, 6, 17]], axis='columns')"
   ]
  },
  {
   "cell_type": "code",
   "execution_count": 7,
   "metadata": {},
   "outputs": [
    {
     "name": "stdout",
     "output_type": "stream",
     "text": [
      "             X          Y                date_ech  valeur qualif  code_zone  \\\n",
      "0     1.903984  47.903174  2019/01/02 00:00:00+00       3    Bon  244500468   \n",
      "1     0.682860  47.394438  2018/10/14 00:00:00+00       4    Bon  243700754   \n",
      "2     2.396232  47.079706  2019/01/02 00:00:00+00       3    Bon  241800507   \n",
      "3     1.490599  48.445544  2018/10/20 00:00:00+00       5  Moyen  200033181   \n",
      "4     1.696049  46.810434  2018/10/20 00:00:00+00       5  Moyen  243600327   \n",
      "...        ...        ...                     ...     ...    ...        ...   \n",
      "8123  1.490599  48.445544  2018/09/04 00:00:00+00       3    Bon  200033181   \n",
      "8124  1.696049  46.810434  2018/09/04 00:00:00+00       5  Moyen  243600327   \n",
      "8125  1.322670  47.590341  2018/09/04 00:00:00+00       5  Moyen  200030385   \n",
      "8126  1.359952  48.748753  2018/09/04 00:00:00+00       3    Bon  200040277   \n",
      "8127  2.736690  47.997953  2018/09/04 00:00:00+00       5  Moyen  244500203   \n",
      "\n",
      "         lib_zone  val_no2  val_so2  val_o3  val_pm10  val_pm25  couleur  \\\n",
      "0         ORLEANS        1        1       3         3         0  #0AD857   \n",
      "1           TOURS        2        1       4         2         0  #A2F743   \n",
      "2         BOURGES        2        1       3         3         0  #0AD857   \n",
      "3        CHARTRES        2        1       3         5         0  #FFFF00   \n",
      "4     CHATEAUROUX        1        1       4         5         0  #FFFF00   \n",
      "...           ...      ...      ...     ...       ...       ...      ...   \n",
      "8123     CHARTRES        1        1       3         3         0  #0AD857   \n",
      "8124  CHATEAUROUX        1        1       5         3         0  #FFFF00   \n",
      "8125        BLOIS        1        1       5         3         0  #FFFF00   \n",
      "8126        DREUX        1        1       3         3         0  #0AD857   \n",
      "8127    MONTARGIS        1        1       5         4         0  #FFFF00   \n",
      "\n",
      "       x_wgs84    y_wgs84  \n",
      "0     1.903984  47.903174  \n",
      "1     0.682860  47.394438  \n",
      "2     2.396232  47.079706  \n",
      "3     1.490599  48.445544  \n",
      "4     1.696049  46.810434  \n",
      "...        ...        ...  \n",
      "8123  1.490599  48.445544  \n",
      "8124  1.696049  46.810434  \n",
      "8125  1.322670  47.590341  \n",
      "8126  1.359952  48.748753  \n",
      "8127  2.736690  47.997953  \n",
      "\n",
      "[8128 rows x 15 columns]\n"
     ]
    }
   ],
   "source": [
    "print(newdf)"
   ]
  },
  {
   "cell_type": "code",
   "execution_count": 8,
   "metadata": {},
   "outputs": [],
   "source": [
    "data=newdf.groupby(['lib_zone']).max()[['val_o3']]"
   ]
  },
  {
   "cell_type": "code",
   "execution_count": 9,
   "metadata": {},
   "outputs": [],
   "source": [
    "data['villes']=data.index"
   ]
  },
  {
   "cell_type": "code",
   "execution_count": 10,
   "metadata": {},
   "outputs": [
    {
     "name": "stdout",
     "output_type": "stream",
     "text": [
      "AxesSubplot(0.125,0.125;0.775x0.755)\n"
     ]
    },
    {
     "data": {
      "image/png": "[encoded data removed]",
      "text/plain": [
       "<Figure size 432x288 with 1 Axes>"
      ]
     },
     "metadata": {
      "needs_background": "light"
     },
     "output_type": "display_data"
    }
   ],
   "source": [
    "print(data.plot.bar(x='villes',y='val_o3', rot=0))"
   ]
  },
  {
   "cell_type": "code",
   "execution_count": 11,
   "metadata": {},
   "outputs": [
    {
     "data": {
      "text/plain": [
       "<matplotlib.axes._subplots.AxesSubplot at 0x7f8be8bd36d0>"
      ]
     },
     "execution_count": 11,
     "metadata": {},
     "output_type": "execute_result"
    },
    {
     "data": {
      "image/png": "[encoded data removed]",
      "text/plain": [
       "<Figure size 432x288 with 1 Axes>"
      ]
     },
     "metadata": {
      "needs_background": "light"
     },
     "output_type": "display_data"
    }
   ],
   "source": [
    "newdf[['val_no2','val_so2','val_o3']].plot.kde()"
   ]
  },
  {
   "cell_type": "code",
   "execution_count": 12,
   "metadata": {},
   "outputs": [
    {
     "data": {
      "text/plain": [
       "<matplotlib.axes._subplots.AxesSubplot at 0x7f8be8356fa0>"
      ]
     },
     "execution_count": 12,
     "metadata": {},
     "output_type": "execute_result"
    },
    {
     "data": {
      "image/png": "[encoded data removed]",
      "text/plain": [
       "<Figure size 432x288 with 1 Axes>"
      ]
     },
     "metadata": {
      "needs_background": "light"
     },
     "output_type": "display_data"
    }
   ],
   "source": [
    "data = newdf.groupby(['lib_zone']).mean()[['val_o3', 'val_pm10']]\n",
    "data.plot.bar(stacked=True)"
   ]
  },
  {
   "cell_type": "code",
   "execution_count": 13,
   "metadata": {},
   "outputs": [
    {
     "data": {
      "text/plain": [
       "Index(['X', 'Y', 'date_ech', 'valeur', 'qualif', 'code_zone', 'lib_zone',\n",
       "       'val_no2', 'val_so2', 'val_o3', 'val_pm10', 'val_pm25', 'couleur',\n",
       "       'x_wgs84', 'y_wgs84'],\n",
       "      dtype='object')"
      ]
     },
     "execution_count": 13,
     "metadata": {},
     "output_type": "execute_result"
    }
   ],
   "source": [
    "newdf.columns"
   ]
  },
  {
   "cell_type": "code",
   "execution_count": 14,
   "metadata": {},
   "outputs": [
    {
     "data": {
      "text/plain": [
       "1016"
      ]
     },
     "execution_count": 14,
     "metadata": {},
     "output_type": "execute_result"
    }
   ],
   "source": [
    "newdf[\"date_ech\"].nunique()"
   ]
  },
  {
   "cell_type": "code",
   "execution_count": 15,
   "metadata": {},
   "outputs": [],
   "source": [
    "newdfB = newdf.set_index('date_ech')"
   ]
  },
  {
   "cell_type": "code",
   "execution_count": 16,
   "metadata": {},
   "outputs": [
    {
     "name": "stdout",
     "output_type": "stream",
     "text": [
      "                               X          Y  valeur qualif  code_zone  \\\n",
      "date_ech                                                                \n",
      "2019/01/02 00:00:00+00  1.903984  47.903174       3    Bon  244500468   \n",
      "2018/10/14 00:00:00+00  0.682860  47.394438       4    Bon  243700754   \n",
      "2019/01/02 00:00:00+00  2.396232  47.079706       3    Bon  241800507   \n",
      "2018/10/20 00:00:00+00  1.490599  48.445544       5  Moyen  200033181   \n",
      "2018/10/20 00:00:00+00  1.696049  46.810434       5  Moyen  243600327   \n",
      "...                          ...        ...     ...    ...        ...   \n",
      "2018/09/04 00:00:00+00  1.490599  48.445544       3    Bon  200033181   \n",
      "2018/09/04 00:00:00+00  1.696049  46.810434       5  Moyen  243600327   \n",
      "2018/09/04 00:00:00+00  1.322670  47.590341       5  Moyen  200030385   \n",
      "2018/09/04 00:00:00+00  1.359952  48.748753       3    Bon  200040277   \n",
      "2018/09/04 00:00:00+00  2.736690  47.997953       5  Moyen  244500203   \n",
      "\n",
      "                           lib_zone  val_no2  val_so2  val_o3  val_pm10  \\\n",
      "date_ech                                                                  \n",
      "2019/01/02 00:00:00+00      ORLEANS        1        1       3         3   \n",
      "2018/10/14 00:00:00+00        TOURS        2        1       4         2   \n",
      "2019/01/02 00:00:00+00      BOURGES        2        1       3         3   \n",
      "2018/10/20 00:00:00+00     CHARTRES        2        1       3         5   \n",
      "2018/10/20 00:00:00+00  CHATEAUROUX        1        1       4         5   \n",
      "...                             ...      ...      ...     ...       ...   \n",
      "2018/09/04 00:00:00+00     CHARTRES        1        1       3         3   \n",
      "2018/09/04 00:00:00+00  CHATEAUROUX        1        1       5         3   \n",
      "2018/09/04 00:00:00+00        BLOIS        1        1       5         3   \n",
      "2018/09/04 00:00:00+00        DREUX        1        1       3         3   \n",
      "2018/09/04 00:00:00+00    MONTARGIS        1        1       5         4   \n",
      "\n",
      "                        val_pm25  couleur   x_wgs84    y_wgs84  \n",
      "date_ech                                                        \n",
      "2019/01/02 00:00:00+00         0  #0AD857  1.903984  47.903174  \n",
      "2018/10/14 00:00:00+00         0  #A2F743  0.682860  47.394438  \n",
      "2019/01/02 00:00:00+00         0  #0AD857  2.396232  47.079706  \n",
      "2018/10/20 00:00:00+00         0  #FFFF00  1.490599  48.445544  \n",
      "2018/10/20 00:00:00+00         0  #FFFF00  1.696049  46.810434  \n",
      "...                          ...      ...       ...        ...  \n",
      "2018/09/04 00:00:00+00         0  #0AD857  1.490599  48.445544  \n",
      "2018/09/04 00:00:00+00         0  #FFFF00  1.696049  46.810434  \n",
      "2018/09/04 00:00:00+00         0  #FFFF00  1.322670  47.590341  \n",
      "2018/09/04 00:00:00+00         0  #0AD857  1.359952  48.748753  \n",
      "2018/09/04 00:00:00+00         0  #FFFF00  2.736690  47.997953  \n",
      "\n",
      "[8128 rows x 14 columns]\n"
     ]
    }
   ],
   "source": [
    "print(newdfB)"
   ]
  },
  {
   "cell_type": "code",
   "execution_count": 17,
   "metadata": {},
   "outputs": [
    {
     "data": {
      "text/html": [
       "<div>\n",
       "<style scoped>\n",
       "    .dataframe tbody tr th:only-of-type {\n",
       "        vertical-align: middle;\n",
       "    }\n",
       "\n",
       "    .dataframe tbody tr th {\n",
       "        vertical-align: top;\n",
       "    }\n",
       "\n",
       "    .dataframe thead th {\n",
       "        text-align: right;\n",
       "    }\n",
       "</style>\n",
       "<table border=\"1\" class=\"dataframe\">\n",
       "  <thead>\n",
       "    <tr style=\"text-align: right;\">\n",
       "      <th></th>\n",
       "      <th>X</th>\n",
       "      <th>Y</th>\n",
       "      <th>valeur</th>\n",
       "      <th>qualif</th>\n",
       "      <th>code_zone</th>\n",
       "      <th>lib_zone</th>\n",
       "      <th>val_no2</th>\n",
       "      <th>val_so2</th>\n",
       "      <th>val_o3</th>\n",
       "      <th>val_pm10</th>\n",
       "      <th>val_pm25</th>\n",
       "      <th>couleur</th>\n",
       "      <th>x_wgs84</th>\n",
       "      <th>y_wgs84</th>\n",
       "    </tr>\n",
       "    <tr>\n",
       "      <th>date_ech</th>\n",
       "      <th></th>\n",
       "      <th></th>\n",
       "      <th></th>\n",
       "      <th></th>\n",
       "      <th></th>\n",
       "      <th></th>\n",
       "      <th></th>\n",
       "      <th></th>\n",
       "      <th></th>\n",
       "      <th></th>\n",
       "      <th></th>\n",
       "      <th></th>\n",
       "      <th></th>\n",
       "      <th></th>\n",
       "    </tr>\n",
       "  </thead>\n",
       "  <tbody>\n",
       "    <tr>\n",
       "      <th>2018/01/01 00:00:00+00</th>\n",
       "      <td>1.903984</td>\n",
       "      <td>47.903174</td>\n",
       "      <td>4</td>\n",
       "      <td>Bon</td>\n",
       "      <td>244500468</td>\n",
       "      <td>ORLEANS</td>\n",
       "      <td>1</td>\n",
       "      <td>1</td>\n",
       "      <td>4</td>\n",
       "      <td>2</td>\n",
       "      <td>0</td>\n",
       "      <td>#A2F743</td>\n",
       "      <td>1.903984</td>\n",
       "      <td>47.903174</td>\n",
       "    </tr>\n",
       "    <tr>\n",
       "      <th>2018/01/01 00:00:00+00</th>\n",
       "      <td>2.736690</td>\n",
       "      <td>47.997953</td>\n",
       "      <td>4</td>\n",
       "      <td>Bon</td>\n",
       "      <td>244500203</td>\n",
       "      <td>MONTARGIS</td>\n",
       "      <td>1</td>\n",
       "      <td>1</td>\n",
       "      <td>4</td>\n",
       "      <td>3</td>\n",
       "      <td>0</td>\n",
       "      <td>#A2F743</td>\n",
       "      <td>2.736690</td>\n",
       "      <td>47.997953</td>\n",
       "    </tr>\n",
       "    <tr>\n",
       "      <th>2018/01/01 00:00:00+00</th>\n",
       "      <td>1.490599</td>\n",
       "      <td>48.445544</td>\n",
       "      <td>4</td>\n",
       "      <td>Bon</td>\n",
       "      <td>200033181</td>\n",
       "      <td>CHARTRES</td>\n",
       "      <td>1</td>\n",
       "      <td>1</td>\n",
       "      <td>4</td>\n",
       "      <td>2</td>\n",
       "      <td>0</td>\n",
       "      <td>#A2F743</td>\n",
       "      <td>1.490599</td>\n",
       "      <td>48.445544</td>\n",
       "    </tr>\n",
       "    <tr>\n",
       "      <th>2018/01/01 00:00:00+00</th>\n",
       "      <td>1.696049</td>\n",
       "      <td>46.810434</td>\n",
       "      <td>4</td>\n",
       "      <td>Bon</td>\n",
       "      <td>243600327</td>\n",
       "      <td>CHATEAUROUX</td>\n",
       "      <td>1</td>\n",
       "      <td>1</td>\n",
       "      <td>4</td>\n",
       "      <td>2</td>\n",
       "      <td>0</td>\n",
       "      <td>#A2F743</td>\n",
       "      <td>1.696049</td>\n",
       "      <td>46.810434</td>\n",
       "    </tr>\n",
       "    <tr>\n",
       "      <th>2018/01/01 00:00:00+00</th>\n",
       "      <td>0.682860</td>\n",
       "      <td>47.394438</td>\n",
       "      <td>4</td>\n",
       "      <td>Bon</td>\n",
       "      <td>243700754</td>\n",
       "      <td>TOURS</td>\n",
       "      <td>1</td>\n",
       "      <td>1</td>\n",
       "      <td>4</td>\n",
       "      <td>2</td>\n",
       "      <td>0</td>\n",
       "      <td>#A2F743</td>\n",
       "      <td>0.682860</td>\n",
       "      <td>47.394438</td>\n",
       "    </tr>\n",
       "    <tr>\n",
       "      <th>...</th>\n",
       "      <td>...</td>\n",
       "      <td>...</td>\n",
       "      <td>...</td>\n",
       "      <td>...</td>\n",
       "      <td>...</td>\n",
       "      <td>...</td>\n",
       "      <td>...</td>\n",
       "      <td>...</td>\n",
       "      <td>...</td>\n",
       "      <td>...</td>\n",
       "      <td>...</td>\n",
       "      <td>...</td>\n",
       "      <td>...</td>\n",
       "      <td>...</td>\n",
       "    </tr>\n",
       "    <tr>\n",
       "      <th>2020/10/13 00:00:00+00</th>\n",
       "      <td>1.696049</td>\n",
       "      <td>46.810434</td>\n",
       "      <td>3</td>\n",
       "      <td>Bon</td>\n",
       "      <td>243600327</td>\n",
       "      <td>CHATEAUROUX</td>\n",
       "      <td>0</td>\n",
       "      <td>0</td>\n",
       "      <td>0</td>\n",
       "      <td>0</td>\n",
       "      <td>0</td>\n",
       "      <td>#0AD857</td>\n",
       "      <td>1.696049</td>\n",
       "      <td>46.810434</td>\n",
       "    </tr>\n",
       "    <tr>\n",
       "      <th>2020/10/13 00:00:00+00</th>\n",
       "      <td>1.359952</td>\n",
       "      <td>48.748753</td>\n",
       "      <td>2</td>\n",
       "      <td>Très bon</td>\n",
       "      <td>200040277</td>\n",
       "      <td>DREUX</td>\n",
       "      <td>0</td>\n",
       "      <td>0</td>\n",
       "      <td>0</td>\n",
       "      <td>0</td>\n",
       "      <td>0</td>\n",
       "      <td>#08BC81</td>\n",
       "      <td>1.359952</td>\n",
       "      <td>48.748753</td>\n",
       "    </tr>\n",
       "    <tr>\n",
       "      <th>2020/10/13 00:00:00+00</th>\n",
       "      <td>2.736690</td>\n",
       "      <td>47.997953</td>\n",
       "      <td>2</td>\n",
       "      <td>Très bon</td>\n",
       "      <td>244500203</td>\n",
       "      <td>MONTARGIS</td>\n",
       "      <td>0</td>\n",
       "      <td>0</td>\n",
       "      <td>0</td>\n",
       "      <td>0</td>\n",
       "      <td>0</td>\n",
       "      <td>#08BC81</td>\n",
       "      <td>2.736690</td>\n",
       "      <td>47.997953</td>\n",
       "    </tr>\n",
       "    <tr>\n",
       "      <th>2020/10/13 00:00:00+00</th>\n",
       "      <td>1.490599</td>\n",
       "      <td>48.445544</td>\n",
       "      <td>2</td>\n",
       "      <td>Très bon</td>\n",
       "      <td>200033181</td>\n",
       "      <td>CHARTRES</td>\n",
       "      <td>0</td>\n",
       "      <td>0</td>\n",
       "      <td>0</td>\n",
       "      <td>0</td>\n",
       "      <td>0</td>\n",
       "      <td>#08BC81</td>\n",
       "      <td>1.490599</td>\n",
       "      <td>48.445544</td>\n",
       "    </tr>\n",
       "    <tr>\n",
       "      <th>2020/10/13 00:00:00+00</th>\n",
       "      <td>1.322670</td>\n",
       "      <td>47.590341</td>\n",
       "      <td>2</td>\n",
       "      <td>Très bon</td>\n",
       "      <td>200030385</td>\n",
       "      <td>BLOIS</td>\n",
       "      <td>0</td>\n",
       "      <td>0</td>\n",
       "      <td>0</td>\n",
       "      <td>0</td>\n",
       "      <td>0</td>\n",
       "      <td>#08BC81</td>\n",
       "      <td>1.322670</td>\n",
       "      <td>47.590341</td>\n",
       "    </tr>\n",
       "  </tbody>\n",
       "</table>\n",
       "<p>8128 rows × 14 columns</p>\n",
       "</div>"
      ],
      "text/plain": [
       "                               X          Y  valeur    qualif  code_zone  \\\n",
       "date_ech                                                                   \n",
       "2018/01/01 00:00:00+00  1.903984  47.903174       4       Bon  244500468   \n",
       "2018/01/01 00:00:00+00  2.736690  47.997953       4       Bon  244500203   \n",
       "2018/01/01 00:00:00+00  1.490599  48.445544       4       Bon  200033181   \n",
       "2018/01/01 00:00:00+00  1.696049  46.810434       4       Bon  243600327   \n",
       "2018/01/01 00:00:00+00  0.682860  47.394438       4       Bon  243700754   \n",
       "...                          ...        ...     ...       ...        ...   \n",
       "2020/10/13 00:00:00+00  1.696049  46.810434       3       Bon  243600327   \n",
       "2020/10/13 00:00:00+00  1.359952  48.748753       2  Très bon  200040277   \n",
       "2020/10/13 00:00:00+00  2.736690  47.997953       2  Très bon  244500203   \n",
       "2020/10/13 00:00:00+00  1.490599  48.445544       2  Très bon  200033181   \n",
       "2020/10/13 00:00:00+00  1.322670  47.590341       2  Très bon  200030385   \n",
       "\n",
       "                           lib_zone  val_no2  val_so2  val_o3  val_pm10  \\\n",
       "date_ech                                                                  \n",
       "2018/01/01 00:00:00+00      ORLEANS        1        1       4         2   \n",
       "2018/01/01 00:00:00+00    MONTARGIS        1        1       4         3   \n",
       "2018/01/01 00:00:00+00     CHARTRES        1        1       4         2   \n",
       "2018/01/01 00:00:00+00  CHATEAUROUX        1        1       4         2   \n",
       "2018/01/01 00:00:00+00        TOURS        1        1       4         2   \n",
       "...                             ...      ...      ...     ...       ...   \n",
       "2020/10/13 00:00:00+00  CHATEAUROUX        0        0       0         0   \n",
       "2020/10/13 00:00:00+00        DREUX        0        0       0         0   \n",
       "2020/10/13 00:00:00+00    MONTARGIS        0        0       0         0   \n",
       "2020/10/13 00:00:00+00     CHARTRES        0        0       0         0   \n",
       "2020/10/13 00:00:00+00        BLOIS        0        0       0         0   \n",
       "\n",
       "                        val_pm25  couleur   x_wgs84    y_wgs84  \n",
       "date_ech                                                        \n",
       "2018/01/01 00:00:00+00         0  #A2F743  1.903984  47.903174  \n",
       "2018/01/01 00:00:00+00         0  #A2F743  2.736690  47.997953  \n",
       "2018/01/01 00:00:00+00         0  #A2F743  1.490599  48.445544  \n",
       "2018/01/01 00:00:00+00         0  #A2F743  1.696049  46.810434  \n",
       "2018/01/01 00:00:00+00         0  #A2F743  0.682860  47.394438  \n",
       "...                          ...      ...       ...        ...  \n",
       "2020/10/13 00:00:00+00         0  #0AD857  1.696049  46.810434  \n",
       "2020/10/13 00:00:00+00         0  #08BC81  1.359952  48.748753  \n",
       "2020/10/13 00:00:00+00         0  #08BC81  2.736690  47.997953  \n",
       "2020/10/13 00:00:00+00         0  #08BC81  1.490599  48.445544  \n",
       "2020/10/13 00:00:00+00         0  #08BC81  1.322670  47.590341  \n",
       "\n",
       "[8128 rows x 14 columns]"
      ]
     },
     "execution_count": 17,
     "metadata": {},
     "output_type": "execute_result"
    }
   ],
   "source": [
    "newdfB.sort_values(by=['date_ech'])"
   ]
  },
  {
   "cell_type": "code",
   "execution_count": 18,
   "metadata": {},
   "outputs": [
    {
     "data": {
      "text/html": [
       "<div>\n",
       "<style scoped>\n",
       "    .dataframe tbody tr th:only-of-type {\n",
       "        vertical-align: middle;\n",
       "    }\n",
       "\n",
       "    .dataframe tbody tr th {\n",
       "        vertical-align: top;\n",
       "    }\n",
       "\n",
       "    .dataframe thead th {\n",
       "        text-align: right;\n",
       "    }\n",
       "</style>\n",
       "<table border=\"1\" class=\"dataframe\">\n",
       "  <thead>\n",
       "    <tr style=\"text-align: right;\">\n",
       "      <th></th>\n",
       "      <th>X</th>\n",
       "      <th>Y</th>\n",
       "      <th>valeur</th>\n",
       "      <th>qualif</th>\n",
       "      <th>code_zone</th>\n",
       "      <th>lib_zone</th>\n",
       "      <th>val_no2</th>\n",
       "      <th>val_so2</th>\n",
       "      <th>val_o3</th>\n",
       "      <th>val_pm10</th>\n",
       "      <th>val_pm25</th>\n",
       "      <th>couleur</th>\n",
       "      <th>x_wgs84</th>\n",
       "      <th>y_wgs84</th>\n",
       "    </tr>\n",
       "    <tr>\n",
       "      <th>date_ech</th>\n",
       "      <th></th>\n",
       "      <th></th>\n",
       "      <th></th>\n",
       "      <th></th>\n",
       "      <th></th>\n",
       "      <th></th>\n",
       "      <th></th>\n",
       "      <th></th>\n",
       "      <th></th>\n",
       "      <th></th>\n",
       "      <th></th>\n",
       "      <th></th>\n",
       "      <th></th>\n",
       "      <th></th>\n",
       "    </tr>\n",
       "  </thead>\n",
       "  <tbody>\n",
       "    <tr>\n",
       "      <th>2020/10/13 00:00:00+00</th>\n",
       "      <td>1.903984</td>\n",
       "      <td>47.903174</td>\n",
       "      <td>2</td>\n",
       "      <td>Très bon</td>\n",
       "      <td>244500468</td>\n",
       "      <td>ORLEANS</td>\n",
       "      <td>0</td>\n",
       "      <td>0</td>\n",
       "      <td>0</td>\n",
       "      <td>0</td>\n",
       "      <td>0</td>\n",
       "      <td>#08BC81</td>\n",
       "      <td>1.903984</td>\n",
       "      <td>47.903174</td>\n",
       "    </tr>\n",
       "    <tr>\n",
       "      <th>2020/10/13 00:00:00+00</th>\n",
       "      <td>1.322670</td>\n",
       "      <td>47.590341</td>\n",
       "      <td>2</td>\n",
       "      <td>Très bon</td>\n",
       "      <td>200030385</td>\n",
       "      <td>BLOIS</td>\n",
       "      <td>0</td>\n",
       "      <td>0</td>\n",
       "      <td>0</td>\n",
       "      <td>0</td>\n",
       "      <td>0</td>\n",
       "      <td>#08BC81</td>\n",
       "      <td>1.322670</td>\n",
       "      <td>47.590341</td>\n",
       "    </tr>\n",
       "    <tr>\n",
       "      <th>2020/10/13 00:00:00+00</th>\n",
       "      <td>2.736690</td>\n",
       "      <td>47.997953</td>\n",
       "      <td>2</td>\n",
       "      <td>Très bon</td>\n",
       "      <td>244500203</td>\n",
       "      <td>MONTARGIS</td>\n",
       "      <td>0</td>\n",
       "      <td>0</td>\n",
       "      <td>0</td>\n",
       "      <td>0</td>\n",
       "      <td>0</td>\n",
       "      <td>#08BC81</td>\n",
       "      <td>2.736690</td>\n",
       "      <td>47.997953</td>\n",
       "    </tr>\n",
       "    <tr>\n",
       "      <th>2020/10/13 00:00:00+00</th>\n",
       "      <td>0.682860</td>\n",
       "      <td>47.394438</td>\n",
       "      <td>2</td>\n",
       "      <td>Très bon</td>\n",
       "      <td>243700754</td>\n",
       "      <td>TOURS</td>\n",
       "      <td>0</td>\n",
       "      <td>0</td>\n",
       "      <td>0</td>\n",
       "      <td>0</td>\n",
       "      <td>0</td>\n",
       "      <td>#08BC81</td>\n",
       "      <td>0.682860</td>\n",
       "      <td>47.394438</td>\n",
       "    </tr>\n",
       "    <tr>\n",
       "      <th>2020/10/13 00:00:00+00</th>\n",
       "      <td>1.359952</td>\n",
       "      <td>48.748753</td>\n",
       "      <td>2</td>\n",
       "      <td>Très bon</td>\n",
       "      <td>200040277</td>\n",
       "      <td>DREUX</td>\n",
       "      <td>0</td>\n",
       "      <td>0</td>\n",
       "      <td>0</td>\n",
       "      <td>0</td>\n",
       "      <td>0</td>\n",
       "      <td>#08BC81</td>\n",
       "      <td>1.359952</td>\n",
       "      <td>48.748753</td>\n",
       "    </tr>\n",
       "    <tr>\n",
       "      <th>...</th>\n",
       "      <td>...</td>\n",
       "      <td>...</td>\n",
       "      <td>...</td>\n",
       "      <td>...</td>\n",
       "      <td>...</td>\n",
       "      <td>...</td>\n",
       "      <td>...</td>\n",
       "      <td>...</td>\n",
       "      <td>...</td>\n",
       "      <td>...</td>\n",
       "      <td>...</td>\n",
       "      <td>...</td>\n",
       "      <td>...</td>\n",
       "      <td>...</td>\n",
       "    </tr>\n",
       "    <tr>\n",
       "      <th>2018/01/01 00:00:00+00</th>\n",
       "      <td>1.322670</td>\n",
       "      <td>47.590341</td>\n",
       "      <td>4</td>\n",
       "      <td>Bon</td>\n",
       "      <td>200030385</td>\n",
       "      <td>BLOIS</td>\n",
       "      <td>1</td>\n",
       "      <td>1</td>\n",
       "      <td>4</td>\n",
       "      <td>2</td>\n",
       "      <td>0</td>\n",
       "      <td>#A2F743</td>\n",
       "      <td>1.322670</td>\n",
       "      <td>47.590341</td>\n",
       "    </tr>\n",
       "    <tr>\n",
       "      <th>2018/01/01 00:00:00+00</th>\n",
       "      <td>1.696049</td>\n",
       "      <td>46.810434</td>\n",
       "      <td>4</td>\n",
       "      <td>Bon</td>\n",
       "      <td>243600327</td>\n",
       "      <td>CHATEAUROUX</td>\n",
       "      <td>1</td>\n",
       "      <td>1</td>\n",
       "      <td>4</td>\n",
       "      <td>2</td>\n",
       "      <td>0</td>\n",
       "      <td>#A2F743</td>\n",
       "      <td>1.696049</td>\n",
       "      <td>46.810434</td>\n",
       "    </tr>\n",
       "    <tr>\n",
       "      <th>2018/01/01 00:00:00+00</th>\n",
       "      <td>1.490599</td>\n",
       "      <td>48.445544</td>\n",
       "      <td>4</td>\n",
       "      <td>Bon</td>\n",
       "      <td>200033181</td>\n",
       "      <td>CHARTRES</td>\n",
       "      <td>1</td>\n",
       "      <td>1</td>\n",
       "      <td>4</td>\n",
       "      <td>2</td>\n",
       "      <td>0</td>\n",
       "      <td>#A2F743</td>\n",
       "      <td>1.490599</td>\n",
       "      <td>48.445544</td>\n",
       "    </tr>\n",
       "    <tr>\n",
       "      <th>2018/01/01 00:00:00+00</th>\n",
       "      <td>0.682860</td>\n",
       "      <td>47.394438</td>\n",
       "      <td>4</td>\n",
       "      <td>Bon</td>\n",
       "      <td>243700754</td>\n",
       "      <td>TOURS</td>\n",
       "      <td>1</td>\n",
       "      <td>1</td>\n",
       "      <td>4</td>\n",
       "      <td>2</td>\n",
       "      <td>0</td>\n",
       "      <td>#A2F743</td>\n",
       "      <td>0.682860</td>\n",
       "      <td>47.394438</td>\n",
       "    </tr>\n",
       "    <tr>\n",
       "      <th>2018/01/01 00:00:00+00</th>\n",
       "      <td>1.903984</td>\n",
       "      <td>47.903174</td>\n",
       "      <td>4</td>\n",
       "      <td>Bon</td>\n",
       "      <td>244500468</td>\n",
       "      <td>ORLEANS</td>\n",
       "      <td>1</td>\n",
       "      <td>1</td>\n",
       "      <td>4</td>\n",
       "      <td>2</td>\n",
       "      <td>0</td>\n",
       "      <td>#A2F743</td>\n",
       "      <td>1.903984</td>\n",
       "      <td>47.903174</td>\n",
       "    </tr>\n",
       "  </tbody>\n",
       "</table>\n",
       "<p>8128 rows × 14 columns</p>\n",
       "</div>"
      ],
      "text/plain": [
       "                               X          Y  valeur    qualif  code_zone  \\\n",
       "date_ech                                                                   \n",
       "2020/10/13 00:00:00+00  1.903984  47.903174       2  Très bon  244500468   \n",
       "2020/10/13 00:00:00+00  1.322670  47.590341       2  Très bon  200030385   \n",
       "2020/10/13 00:00:00+00  2.736690  47.997953       2  Très bon  244500203   \n",
       "2020/10/13 00:00:00+00  0.682860  47.394438       2  Très bon  243700754   \n",
       "2020/10/13 00:00:00+00  1.359952  48.748753       2  Très bon  200040277   \n",
       "...                          ...        ...     ...       ...        ...   \n",
       "2018/01/01 00:00:00+00  1.322670  47.590341       4       Bon  200030385   \n",
       "2018/01/01 00:00:00+00  1.696049  46.810434       4       Bon  243600327   \n",
       "2018/01/01 00:00:00+00  1.490599  48.445544       4       Bon  200033181   \n",
       "2018/01/01 00:00:00+00  0.682860  47.394438       4       Bon  243700754   \n",
       "2018/01/01 00:00:00+00  1.903984  47.903174       4       Bon  244500468   \n",
       "\n",
       "                           lib_zone  val_no2  val_so2  val_o3  val_pm10  \\\n",
       "date_ech                                                                  \n",
       "2020/10/13 00:00:00+00      ORLEANS        0        0       0         0   \n",
       "2020/10/13 00:00:00+00        BLOIS        0        0       0         0   \n",
       "2020/10/13 00:00:00+00    MONTARGIS        0        0       0         0   \n",
       "2020/10/13 00:00:00+00        TOURS        0        0       0         0   \n",
       "2020/10/13 00:00:00+00        DREUX        0        0       0         0   \n",
       "...                             ...      ...      ...     ...       ...   \n",
       "2018/01/01 00:00:00+00        BLOIS        1        1       4         2   \n",
       "2018/01/01 00:00:00+00  CHATEAUROUX        1        1       4         2   \n",
       "2018/01/01 00:00:00+00     CHARTRES        1        1       4         2   \n",
       "2018/01/01 00:00:00+00        TOURS        1        1       4         2   \n",
       "2018/01/01 00:00:00+00      ORLEANS        1        1       4         2   \n",
       "\n",
       "                        val_pm25  couleur   x_wgs84    y_wgs84  \n",
       "date_ech                                                        \n",
       "2020/10/13 00:00:00+00         0  #08BC81  1.903984  47.903174  \n",
       "2020/10/13 00:00:00+00         0  #08BC81  1.322670  47.590341  \n",
       "2020/10/13 00:00:00+00         0  #08BC81  2.736690  47.997953  \n",
       "2020/10/13 00:00:00+00         0  #08BC81  0.682860  47.394438  \n",
       "2020/10/13 00:00:00+00         0  #08BC81  1.359952  48.748753  \n",
       "...                          ...      ...       ...        ...  \n",
       "2018/01/01 00:00:00+00         0  #A2F743  1.322670  47.590341  \n",
       "2018/01/01 00:00:00+00         0  #A2F743  1.696049  46.810434  \n",
       "2018/01/01 00:00:00+00         0  #A2F743  1.490599  48.445544  \n",
       "2018/01/01 00:00:00+00         0  #A2F743  0.682860  47.394438  \n",
       "2018/01/01 00:00:00+00         0  #A2F743  1.903984  47.903174  \n",
       "\n",
       "[8128 rows x 14 columns]"
      ]
     },
     "execution_count": 18,
     "metadata": {},
     "output_type": "execute_result"
    }
   ],
   "source": [
    "newdfB.sort_values(by=['date_ech'], ascending=False)"
   ]
  },
  {
   "cell_type": "code",
   "execution_count": 19,
   "metadata": {},
   "outputs": [
    {
     "data": {
      "text/plain": [
       "<matplotlib.axes._subplots.AxesSubplot at 0x7f8be82dac40>"
      ]
     },
     "execution_count": 19,
     "metadata": {},
     "output_type": "execute_result"
    },
    {
     "data": {
      "image/png": "[encoded data removed]",
      "text/plain": [
       "<Figure size 432x288 with 1 Axes>"
      ]
     },
     "metadata": {
      "needs_background": "light"
     },
     "output_type": "display_data"
    }
   ],
   "source": [
    "newdfB['val_pm10'].plot.kde()"
   ]
  },
  {
   "cell_type": "code",
   "execution_count": 20,
   "metadata": {},
   "outputs": [
    {
     "data": {
      "text/plain": [
       "<seaborn.axisgrid.FacetGrid at 0x7f8be823cbb0>"
      ]
     },
     "execution_count": 20,
     "metadata": {},
     "output_type": "execute_result"
    },
    {
     "data": {
      "image/png": "[encoded data removed]",
      "text/plain": [
       "<Figure size 360x360 with 1 Axes>"
      ]
     },
     "metadata": {
      "needs_background": "light"
     },
     "output_type": "display_data"
    }
   ],
   "source": [
    "sns.catplot(y=\"lib_zone\", x=\"val_o3\", kind=\"box\", data=newdfB)"
   ]
  },
  {
   "cell_type": "code",
   "execution_count": 21,
   "metadata": {},
   "outputs": [
    {
     "data": {
      "text/plain": [
       "<seaborn.axisgrid.FacetGrid at 0x7f8be832a160>"
      ]
     },
     "execution_count": 21,
     "metadata": {},
     "output_type": "execute_result"
    },
    {
     "data": {
      "image/png": "[encoded data removed]",
      "text/plain": [
       "<Figure size 360x360 with 1 Axes>"
      ]
     },
     "metadata": {
      "needs_background": "light"
     },
     "output_type": "display_data"
    }
   ],
   "source": [
    "sns.catplot(y=\"lib_zone\", x=\"val_o3\", kind=\"box\", data=newdfB.query(\"val_o3 >1\"))"
   ]
  },
  {
   "cell_type": "code",
   "execution_count": 22,
   "metadata": {
    "scrolled": true
   },
   "outputs": [],
   "source": [
    "#plt.figure(figsize=(30, 18))\n",
    "#sns.relplot(x=\"date_ech\", y=\"val_pm10\", kind=\"scatter\", hue=\"lib_zone\", col=\"lib_zone\", col_wrap=3,\n",
    "            #data=df.query(\"date_ech >= '2018/07/01 00:00:00+00' & date_ech < '2018/31/12 00:00:00+00'\"))"
   ]
  },
  {
   "cell_type": "code",
   "execution_count": 173,
   "metadata": {},
   "outputs": [
    {
     "data": {
      "text/html": [
       "<iframe src=\"about:blank\" width=\"800\" height=\"500\"style=\"border:none !important;\" data-html=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 onload=\"this.contentDocument.open();this.contentDocument.write(atob(this.getAttribute('data-html')));this.contentDocument.close();\" \"allowfullscreen\" \"webkitallowfullscreen\" \"mozallowfullscreen\"></iframe>"
      ],
      "text/plain": [
       "<folium.folium.Map at 0x7f13042b3a30>"
      ]
     },
     "execution_count": 173,
     "metadata": {},
     "output_type": "execute_result"
    }
   ],
   "source": [
    "lat = 47.394144\n",
    "lon = 0.68484\n",
    "fig=folium.Figure(width=800, height=500)\n",
    "map = folium.Map(location = [47.394144, 0.68484], zoom_start = 9, popup = \"region centre\").add_to(fig)\n",
    "STATIONS = ['TOURS', 'ORLEANS', 'BLOIS', 'BOURGES',\n",
    "            'CHATEAUROUX', 'DREUX', 'MONTARGIS',]\n",
    "X = [47.383333, 47.9027336,47.5876861,47.0805693,46.8203785,48.7358807,47.9990047]\n",
    "Y = [0.683333, 1.9086066,1.3337639,2.398932, 1.6770956, 1.3684254,2.7364119]\n",
    "for i in range(len(STATIONS)):\n",
    "    folium.CircleMarker(\n",
    "        location = (X[i], Y[i]),\n",
    "        radius = size,\n",
    "        color = 'crimson',\n",
    "        fill = True,\n",
    "        fill_color = 'crimson'\n",
    "    ).add_to(map)\n",
    "map()    "
   ]
  },
  {
   "cell_type": "code",
   "execution_count": null,
   "metadata": {},
   "outputs": [],
   "source": []
  },
  {
   "cell_type": "code",
   "execution_count": null,
   "metadata": {},
   "outputs": [],
   "source": []
  }
 ],
 "metadata": {
  "kernelspec": {
   "display_name": "Python 3",
   "language": "python",
   "name": "python3"
  },
  "language_info": {
   "codemirror_mode": {
    "name": "ipython",
    "version": 3
   },
   "file_extension": ".py",
   "mimetype": "text/x-python",
   "name": "python",
   "nbconvert_exporter": "python",
   "pygments_lexer": "ipython3",
   "version": "3.8.3"
  }
 },
 "nbformat": 4,
 "nbformat_minor": 4
}
